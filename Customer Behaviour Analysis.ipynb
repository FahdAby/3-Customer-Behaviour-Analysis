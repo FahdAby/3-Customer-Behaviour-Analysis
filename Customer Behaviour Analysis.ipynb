{
 "cells": [
  {
   "cell_type": "markdown",
   "metadata": {},
   "source": [
    "# Customer Behaviour Analysis"
   ]
  },
  {
   "cell_type": "markdown",
   "metadata": {},
   "source": [
    "## I. Pendahuluan"
   ]
  },
  {
   "cell_type": "markdown",
   "metadata": {},
   "source": [
    "Analisis Perilaku pelanggan adalah proses yang melibatkan pemeriksaan dan pemahaman dari interaksi dari pelanggan dengan bisnis, produk maupun layanan. Analisi ini dapat membantu suatu perusahaan atau pihak yang terkait dalam membuat keputusan yang tepat, baik untuk menyesuaikan strategi mereka hingga untuk meningkatkan pengalaman dari suatu customer tersebut. Dalam analisis ini mencangkup pengamatan kualitatif dan kuantitatif terhadap interaksi customer, segmentasi pelanggan ke dalam buyer personas dan penggunaan data yang nantinya digunakan untuk mengoptimalkan pemasaran dan mempersonalisasi pengalaman pelanggan."
   ]
  },
  {
   "cell_type": "markdown",
   "metadata": {},
   "source": [
    "## II. Tujuan"
   ]
  },
  {
   "cell_type": "markdown",
   "metadata": {},
   "source": [
    "Analisis ini memiliki tujuan untuk mempermudah pelaku bisnis dalam mengambil keputusan dalam bisnis nya. Wawasan yang didapatkan dari analisis perilaku pelanggan ini dapat memungkinkan bisnis untuk mengambil keputusan atau tindakan yang tepat dan pada akhirnya hal ini akan mendorong pertumbuhan dan memaksimalkan kepuasan pelanggan. "
   ]
  },
  {
   "cell_type": "markdown",
   "metadata": {},
   "source": [
    "## III. Workflow Project"
   ]
  },
  {
   "cell_type": "markdown",
   "metadata": {},
   "source": [
    "1. Data Collection : Tahap ini merupakan langkah awal dalam analisis data, di mana data dikumpulkan dari berbagai sumber. \n",
    "\n",
    "2. Exploratory Data Analysis (EDA) : Tahap ini bertujuan untuk memahami karakteristik data yang telah dikumpulkan.\n",
    "\n",
    "3. Analis Data : Tahap ini dilakukan untuk menganalisis dan mengolah data.\n",
    "\n",
    "4. Kesimpulan : Tahap terakhir adalah menarik kesimpulan dari hasil analisis data. Kesimpulan harus berdasarkan fakta dan data yang telah dianalisis."
   ]
  },
  {
   "cell_type": "markdown",
   "metadata": {},
   "source": [
    "## A. Data Collection"
   ]
  },
  {
   "cell_type": "markdown",
   "metadata": {},
   "source": [
    "- **User_ID**: Tanda unik yang diberikan kepada setiap pelanggan.\n",
    "- **Gender**: Jenis kelamin dari pelanggan, bisa berupa \"Male\" atau \"Female\".\n",
    "- **Age**: Umur dari pelanggan.\n",
    "- **Location**: Lokasi dari pelanggan, seperti kota atau wilayah.\n",
    "- **Device_Type**: Jenis perangkat yang digunakan oleh pelanggan untuk mengakses platform, misalnya \"Smartphone\", \"Laptop\", atau \"Desktop\".\n",
    "- **Product_Browsing_Time**: Jumlah waktu yang dihabiskan oleh pelanggan untuk menjelajahi produk dalam menit.\n",
    "- **Total_Pages_Viewed**: Jumlah total halaman produk yang dilihat oleh pelanggan selama sesi browsing.\n",
    "- **Items_Added_to_Cart**: Jumlah item yang ditambahkan oleh pelanggan ke dalam keranjang belanja selama sesi browsing.\n",
    "- **Total_Purchases**: Jumlah total pembelian yang dilakukan oleh pelanggan.\n"
   ]
  },
  {
   "cell_type": "markdown",
   "metadata": {},
   "source": [
    "### 1) Subset Data"
   ]
  },
  {
   "cell_type": "code",
   "execution_count": 1,
   "metadata": {},
   "outputs": [],
   "source": [
    "# Subset Libraries\n",
    "import pandas as pd\n",
    "import numpy as np\n",
    "import plotly.express as px\n",
    "import seaborn as sns\n",
    "import matplotlib.pyplot as plt\n"
   ]
  },
  {
   "cell_type": "code",
   "execution_count": 2,
   "metadata": {},
   "outputs": [
    {
     "data": {
      "text/html": [
       "<div>\n",
       "<style scoped>\n",
       "    .dataframe tbody tr th:only-of-type {\n",
       "        vertical-align: middle;\n",
       "    }\n",
       "\n",
       "    .dataframe tbody tr th {\n",
       "        vertical-align: top;\n",
       "    }\n",
       "\n",
       "    .dataframe thead th {\n",
       "        text-align: right;\n",
       "    }\n",
       "</style>\n",
       "<table border=\"1\" class=\"dataframe\">\n",
       "  <thead>\n",
       "    <tr style=\"text-align: right;\">\n",
       "      <th></th>\n",
       "      <th>User_ID</th>\n",
       "      <th>Gender</th>\n",
       "      <th>Age</th>\n",
       "      <th>Location</th>\n",
       "      <th>Device_Type</th>\n",
       "      <th>Product_Browsing_Time</th>\n",
       "      <th>Total_Pages_Viewed</th>\n",
       "      <th>Items_Added_to_Cart</th>\n",
       "      <th>Total_Purchases</th>\n",
       "    </tr>\n",
       "  </thead>\n",
       "  <tbody>\n",
       "    <tr>\n",
       "      <th>0</th>\n",
       "      <td>1</td>\n",
       "      <td>Female</td>\n",
       "      <td>23</td>\n",
       "      <td>Ahmedabad</td>\n",
       "      <td>Mobile</td>\n",
       "      <td>60</td>\n",
       "      <td>30</td>\n",
       "      <td>1</td>\n",
       "      <td>0</td>\n",
       "    </tr>\n",
       "    <tr>\n",
       "      <th>1</th>\n",
       "      <td>2</td>\n",
       "      <td>Male</td>\n",
       "      <td>25</td>\n",
       "      <td>Kolkata</td>\n",
       "      <td>Tablet</td>\n",
       "      <td>30</td>\n",
       "      <td>38</td>\n",
       "      <td>9</td>\n",
       "      <td>4</td>\n",
       "    </tr>\n",
       "    <tr>\n",
       "      <th>2</th>\n",
       "      <td>3</td>\n",
       "      <td>Male</td>\n",
       "      <td>32</td>\n",
       "      <td>Bangalore</td>\n",
       "      <td>Desktop</td>\n",
       "      <td>37</td>\n",
       "      <td>13</td>\n",
       "      <td>5</td>\n",
       "      <td>0</td>\n",
       "    </tr>\n",
       "    <tr>\n",
       "      <th>3</th>\n",
       "      <td>4</td>\n",
       "      <td>Male</td>\n",
       "      <td>35</td>\n",
       "      <td>Delhi</td>\n",
       "      <td>Mobile</td>\n",
       "      <td>7</td>\n",
       "      <td>20</td>\n",
       "      <td>10</td>\n",
       "      <td>3</td>\n",
       "    </tr>\n",
       "    <tr>\n",
       "      <th>4</th>\n",
       "      <td>5</td>\n",
       "      <td>Male</td>\n",
       "      <td>27</td>\n",
       "      <td>Bangalore</td>\n",
       "      <td>Tablet</td>\n",
       "      <td>35</td>\n",
       "      <td>20</td>\n",
       "      <td>8</td>\n",
       "      <td>2</td>\n",
       "    </tr>\n",
       "  </tbody>\n",
       "</table>\n",
       "</div>"
      ],
      "text/plain": [
       "   User_ID  Gender  Age   Location Device_Type  Product_Browsing_Time  \\\n",
       "0        1  Female   23  Ahmedabad      Mobile                     60   \n",
       "1        2    Male   25    Kolkata      Tablet                     30   \n",
       "2        3    Male   32  Bangalore     Desktop                     37   \n",
       "3        4    Male   35      Delhi      Mobile                      7   \n",
       "4        5    Male   27  Bangalore      Tablet                     35   \n",
       "\n",
       "   Total_Pages_Viewed  Items_Added_to_Cart  Total_Purchases  \n",
       "0                  30                    1                0  \n",
       "1                  38                    9                4  \n",
       "2                  13                    5                0  \n",
       "3                  20                   10                3  \n",
       "4                  20                    8                2  "
      ]
     },
     "execution_count": 2,
     "metadata": {},
     "output_type": "execute_result"
    }
   ],
   "source": [
    "# Subset Data\n",
    "df = pd.read_csv(\"https://raw.githubusercontent.com/FahdAby/3-Customer-Behaviour-Analysis/master/ecommerce_customer_data.csv\")\n",
    "df.head()"
   ]
  },
  {
   "cell_type": "markdown",
   "metadata": {},
   "source": [
    "### 2) Summary Statistics"
   ]
  },
  {
   "cell_type": "code",
   "execution_count": 3,
   "metadata": {},
   "outputs": [
    {
     "name": "stdout",
     "output_type": "stream",
     "text": [
      "<class 'pandas.core.frame.DataFrame'>\n",
      "RangeIndex: 500 entries, 0 to 499\n",
      "Data columns (total 9 columns):\n",
      " #   Column                 Non-Null Count  Dtype \n",
      "---  ------                 --------------  ----- \n",
      " 0   User_ID                500 non-null    int64 \n",
      " 1   Gender                 500 non-null    object\n",
      " 2   Age                    500 non-null    int64 \n",
      " 3   Location               500 non-null    object\n",
      " 4   Device_Type            500 non-null    object\n",
      " 5   Product_Browsing_Time  500 non-null    int64 \n",
      " 6   Total_Pages_Viewed     500 non-null    int64 \n",
      " 7   Items_Added_to_Cart    500 non-null    int64 \n",
      " 8   Total_Purchases        500 non-null    int64 \n",
      "dtypes: int64(6), object(3)\n",
      "memory usage: 35.3+ KB\n"
     ]
    }
   ],
   "source": [
    "# Data Type\n",
    "df.info()"
   ]
  },
  {
   "cell_type": "code",
   "execution_count": 4,
   "metadata": {},
   "outputs": [
    {
     "data": {
      "text/html": [
       "<div>\n",
       "<style scoped>\n",
       "    .dataframe tbody tr th:only-of-type {\n",
       "        vertical-align: middle;\n",
       "    }\n",
       "\n",
       "    .dataframe tbody tr th {\n",
       "        vertical-align: top;\n",
       "    }\n",
       "\n",
       "    .dataframe thead th {\n",
       "        text-align: right;\n",
       "    }\n",
       "</style>\n",
       "<table border=\"1\" class=\"dataframe\">\n",
       "  <thead>\n",
       "    <tr style=\"text-align: right;\">\n",
       "      <th></th>\n",
       "      <th>User_ID</th>\n",
       "      <th>Age</th>\n",
       "      <th>Product_Browsing_Time</th>\n",
       "      <th>Total_Pages_Viewed</th>\n",
       "      <th>Items_Added_to_Cart</th>\n",
       "      <th>Total_Purchases</th>\n",
       "    </tr>\n",
       "  </thead>\n",
       "  <tbody>\n",
       "    <tr>\n",
       "      <th>count</th>\n",
       "      <td>500.000000</td>\n",
       "      <td>500.000000</td>\n",
       "      <td>500.000000</td>\n",
       "      <td>500.000000</td>\n",
       "      <td>500.000000</td>\n",
       "      <td>500.000000</td>\n",
       "    </tr>\n",
       "    <tr>\n",
       "      <th>mean</th>\n",
       "      <td>250.500000</td>\n",
       "      <td>26.276000</td>\n",
       "      <td>30.740000</td>\n",
       "      <td>27.182000</td>\n",
       "      <td>5.150000</td>\n",
       "      <td>2.464000</td>\n",
       "    </tr>\n",
       "    <tr>\n",
       "      <th>std</th>\n",
       "      <td>144.481833</td>\n",
       "      <td>5.114699</td>\n",
       "      <td>15.934246</td>\n",
       "      <td>13.071596</td>\n",
       "      <td>3.203127</td>\n",
       "      <td>1.740909</td>\n",
       "    </tr>\n",
       "    <tr>\n",
       "      <th>min</th>\n",
       "      <td>1.000000</td>\n",
       "      <td>18.000000</td>\n",
       "      <td>5.000000</td>\n",
       "      <td>5.000000</td>\n",
       "      <td>0.000000</td>\n",
       "      <td>0.000000</td>\n",
       "    </tr>\n",
       "    <tr>\n",
       "      <th>25%</th>\n",
       "      <td>125.750000</td>\n",
       "      <td>22.000000</td>\n",
       "      <td>16.000000</td>\n",
       "      <td>16.000000</td>\n",
       "      <td>2.000000</td>\n",
       "      <td>1.000000</td>\n",
       "    </tr>\n",
       "    <tr>\n",
       "      <th>50%</th>\n",
       "      <td>250.500000</td>\n",
       "      <td>26.000000</td>\n",
       "      <td>31.000000</td>\n",
       "      <td>27.000000</td>\n",
       "      <td>5.000000</td>\n",
       "      <td>2.000000</td>\n",
       "    </tr>\n",
       "    <tr>\n",
       "      <th>75%</th>\n",
       "      <td>375.250000</td>\n",
       "      <td>31.000000</td>\n",
       "      <td>44.000000</td>\n",
       "      <td>38.000000</td>\n",
       "      <td>8.000000</td>\n",
       "      <td>4.000000</td>\n",
       "    </tr>\n",
       "    <tr>\n",
       "      <th>max</th>\n",
       "      <td>500.000000</td>\n",
       "      <td>35.000000</td>\n",
       "      <td>60.000000</td>\n",
       "      <td>50.000000</td>\n",
       "      <td>10.000000</td>\n",
       "      <td>5.000000</td>\n",
       "    </tr>\n",
       "  </tbody>\n",
       "</table>\n",
       "</div>"
      ],
      "text/plain": [
       "          User_ID         Age  Product_Browsing_Time  Total_Pages_Viewed  \\\n",
       "count  500.000000  500.000000             500.000000          500.000000   \n",
       "mean   250.500000   26.276000              30.740000           27.182000   \n",
       "std    144.481833    5.114699              15.934246           13.071596   \n",
       "min      1.000000   18.000000               5.000000            5.000000   \n",
       "25%    125.750000   22.000000              16.000000           16.000000   \n",
       "50%    250.500000   26.000000              31.000000           27.000000   \n",
       "75%    375.250000   31.000000              44.000000           38.000000   \n",
       "max    500.000000   35.000000              60.000000           50.000000   \n",
       "\n",
       "       Items_Added_to_Cart  Total_Purchases  \n",
       "count           500.000000       500.000000  \n",
       "mean              5.150000         2.464000  \n",
       "std               3.203127         1.740909  \n",
       "min               0.000000         0.000000  \n",
       "25%               2.000000         1.000000  \n",
       "50%               5.000000         2.000000  \n",
       "75%               8.000000         4.000000  \n",
       "max              10.000000         5.000000  "
      ]
     },
     "execution_count": 4,
     "metadata": {},
     "output_type": "execute_result"
    }
   ],
   "source": [
    "# Statistika Deskriptif\n",
    "df.describe()"
   ]
  },
  {
   "cell_type": "code",
   "execution_count": 5,
   "metadata": {},
   "outputs": [
    {
     "data": {
      "text/html": [
       "<div>\n",
       "<style scoped>\n",
       "    .dataframe tbody tr th:only-of-type {\n",
       "        vertical-align: middle;\n",
       "    }\n",
       "\n",
       "    .dataframe tbody tr th {\n",
       "        vertical-align: top;\n",
       "    }\n",
       "\n",
       "    .dataframe thead th {\n",
       "        text-align: right;\n",
       "    }\n",
       "</style>\n",
       "<table border=\"1\" class=\"dataframe\">\n",
       "  <thead>\n",
       "    <tr style=\"text-align: right;\">\n",
       "      <th></th>\n",
       "      <th>Gender</th>\n",
       "      <th>Location</th>\n",
       "      <th>Device_Type</th>\n",
       "    </tr>\n",
       "  </thead>\n",
       "  <tbody>\n",
       "    <tr>\n",
       "      <th>count</th>\n",
       "      <td>500</td>\n",
       "      <td>500</td>\n",
       "      <td>500</td>\n",
       "    </tr>\n",
       "    <tr>\n",
       "      <th>unique</th>\n",
       "      <td>2</td>\n",
       "      <td>8</td>\n",
       "      <td>3</td>\n",
       "    </tr>\n",
       "    <tr>\n",
       "      <th>top</th>\n",
       "      <td>Male</td>\n",
       "      <td>Kolkata</td>\n",
       "      <td>Mobile</td>\n",
       "    </tr>\n",
       "    <tr>\n",
       "      <th>freq</th>\n",
       "      <td>261</td>\n",
       "      <td>71</td>\n",
       "      <td>178</td>\n",
       "    </tr>\n",
       "  </tbody>\n",
       "</table>\n",
       "</div>"
      ],
      "text/plain": [
       "       Gender Location Device_Type\n",
       "count     500      500         500\n",
       "unique      2        8           3\n",
       "top      Male  Kolkata      Mobile\n",
       "freq      261       71         178"
      ]
     },
     "execution_count": 5,
     "metadata": {},
     "output_type": "execute_result"
    }
   ],
   "source": [
    "# Summary untuk kolom kategorik\n",
    "df.describe(include=\"object\") "
   ]
  },
  {
   "cell_type": "markdown",
   "metadata": {},
   "source": [
    "## B. Exploratory Data Analysis"
   ]
  },
  {
   "cell_type": "markdown",
   "metadata": {},
   "source": [
    "### 1) Histogram distribusi kolom \"Age\""
   ]
  },
  {
   "cell_type": "code",
   "execution_count": 6,
   "metadata": {},
   "outputs": [
    {
     "data": {
      "image/png": "[encoded data removed]",
      "text/plain": [
       "<Figure size 1000x600 with 1 Axes>"
      ]
     },
     "metadata": {},
     "output_type": "display_data"
    }
   ],
   "source": [
    "# Mengatur gaya seaborn\n",
    "sns.set(style=\"whitegrid\")\n",
    "\n",
    "# Mengatur tema warna\n",
    "sns.set_palette([\"#52c569\"])\n",
    "\n",
    "# Membuat histogram dengan Seaborn\n",
    "plt.figure(figsize=(10, 6))\n",
    "sns.histplot(df['Age'], kde=True)\n",
    "plt.title('Persebaran dari kolom Age')\n",
    "plt.xlabel('Age')\n",
    "plt.ylabel('Frequency')\n",
    "plt.show()"
   ]
  },
  {
   "cell_type": "markdown",
   "metadata": {},
   "source": [
    "__Interpretasi :__\n",
    "Dari Histogram yang telah dibuat tersebut tidak memiliki pola bentuk tertentu atau persebaran dari umur bisa dibilang acak atau uniform. Distribusi dari data age tersebar secara merata di seluruh rentang nilainya tanpa adanya konssentrasi pada interval tertentu  "
   ]
  },
  {
   "cell_type": "markdown",
   "metadata": {},
   "source": [
    "### 2) Barchart frekuensi kolom \"Gender\""
   ]
  },
  {
   "cell_type": "code",
   "execution_count": 19,
   "metadata": {},
   "outputs": [
    {
     "data": {
      "image/png": "[encoded data removed]",
      "text/plain": [
       "<Figure size 800x600 with 1 Axes>"
      ]
     },
     "metadata": {},
     "output_type": "display_data"
    }
   ],
   "source": [
    "# Menghitung jumlah masing-masing gender\n",
    "hitung_gender = df[\"Gender\"].value_counts().reset_index()\n",
    "hitung_gender.columns = [\"Gender\", \"Jumlah\"]\n",
    "\n",
    "# Mengatur gaya seaborn\n",
    "sns.set(style=\"whitegrid\")\n",
    "\n",
    "# Membuat bar chart\n",
    "plt.figure(figsize=(8, 6))\n",
    "bar = sns.barplot(x=hitung_gender[\"Gender\"], y=hitung_gender[\"Jumlah\"]\n",
    "            , hue=hitung_gender[\"Gender\"], palette=\"viridis\", legend=False)\n",
    "\n",
    "# Menambahkan judul dan label sumbu\n",
    "plt.title('Bar Chart persebaran Kolom Gender')\n",
    "plt.xlabel('Gender')\n",
    "plt.ylabel('Jumlah')\n",
    "\n",
    "# Menambahkan label jumlah di atas tiap batang\n",
    "for index, row in hitung_gender.iterrows():\n",
    "    bar.text(index, row[\"Jumlah\"] + 0.1, row[\"Jumlah\"], color='black', ha=\"center\")\n",
    "\n",
    "# Menampilkan plot\n",
    "plt.show()\n"
   ]
  },
  {
   "cell_type": "markdown",
   "metadata": {},
   "source": [
    "## C. Analisis Data"
   ]
  },
  {
   "cell_type": "markdown",
   "metadata": {},
   "source": [
    "### 1) Relasi antara 2 variabel dengan scatter plot"
   ]
  },
  {
   "cell_type": "code",
   "execution_count": 8,
   "metadata": {},
   "outputs": [
    {
     "data": {
      "image/png": "[encoded data removed]",
      "text/plain": [
       "<Figure size 800x600 with 1 Axes>"
      ]
     },
     "metadata": {},
     "output_type": "display_data"
    }
   ],
   "source": [
    "# Scatter plot Product_Browsing_Time vs Total_Pages_Viewed\n",
    "# Mengatur gaya seaborn\n",
    "sns.set(style=\"whitegrid\")\n",
    "\n",
    "# Membuat scatter plot\n",
    "plt.figure(figsize=(8, 6))\n",
    "sns.scatterplot(x=\"Product_Browsing_Time\", y=\"Total_Pages_Viewed\", data=df, color=[\"#52c569\"]\n",
    "                , marker='o', legend=False )\n",
    "\n",
    "# Menambahkan judul dan label sumbu\n",
    "plt.title('Scatter Product_Browsing_Time vs. Total_Pages_Viewed')\n",
    "plt.xlabel('Product_Browsing_Time')\n",
    "plt.ylabel('Total_Pages_Viewed')\n",
    "\n",
    "# Menampilkan plot\n",
    "plt.show()"
   ]
  },
  {
   "cell_type": "markdown",
   "metadata": {},
   "source": [
    "__Interpretasi :__\n",
    "Dari Scatter diatas menunjukkan bahwa tidak adanya pola yang konsisten, tidak adanya hubungan yang kuat antara waktu yang dihabisan untuk menjelajahi produk dengan jumlah halaman yang dilihat. Hal ini menunjukkan bahwa pelanggan belum tentu menjelajahi labih banyak halaman jika mereka menghabiskan lebih banyak waktu di situs web, hal ini mungkin saja disebabkan karena berbagai faktor, seperti desain situs web atau yang lain."
   ]
  },
  {
   "cell_type": "markdown",
   "metadata": {},
   "source": [
    "### 2) Rata-rata Page Viewed berdasarkan gender"
   ]
  },
  {
   "cell_type": "code",
   "execution_count": 9,
   "metadata": {},
   "outputs": [
    {
     "data": {
      "image/png": "[encoded data removed]",
      "text/plain": [
       "<Figure size 800x600 with 1 Axes>"
      ]
     },
     "metadata": {},
     "output_type": "display_data"
    }
   ],
   "source": [
    "lihat_gender = df.groupby(\"Gender\")[\"Total_Pages_Viewed\"].mean().reset_index()\n",
    "lihat_gender.columns = [\"Gender\", \"Rata-rata Viewed\"]\n",
    "\n",
    "# Mengatur gaya seaborn\n",
    "sns.set(style=\"whitegrid\")\n",
    "\n",
    "# Membuat bar chart\n",
    "plt.figure(figsize=(8, 6))\n",
    "bar = sns.barplot(x=lihat_gender[\"Gender\"], y=lihat_gender[\"Rata-rata Viewed\"]\n",
    "            , hue=lihat_gender[\"Gender\"], palette=\"viridis\", legend=False)\n",
    "\n",
    "# Menambahkan judul dan label sumbu\n",
    "plt.title('Rata-rata Page Viewed berdasarkan Gender')\n",
    "plt.xlabel('Gender')\n",
    "plt.ylabel('Rata-rata Viewed')\n",
    "\n",
    "# Menambahkan label jumlah di atas tiap batang\n",
    "for index, row in lihat_gender.iterrows():\n",
    "    bar.text(index, row[\"Rata-rata Viewed\"] + 0.1, row[\"Rata-rata Viewed\"], color='black', ha=\"center\")\n",
    "\n",
    "# Menampilkan plot\n",
    "plt.show()"
   ]
  },
  {
   "cell_type": "markdown",
   "metadata": {},
   "source": [
    "__Interpretasi :__\n",
    "Dari Visualisasi diatas didapatkan bahwa Female(perempuan) memilii rata-rata Total Page Viewed lebih tinggi daripada Male(laki-laki)"
   ]
  },
  {
   "cell_type": "markdown",
   "metadata": {},
   "source": [
    "### 3) Rata-rata Page Viewed berdasarkan Devices"
   ]
  },
  {
   "cell_type": "code",
   "execution_count": 10,
   "metadata": {},
   "outputs": [
    {
     "data": {
      "image/png": "[encoded data removed]",
      "text/plain": [
       "<Figure size 800x600 with 1 Axes>"
      ]
     },
     "metadata": {},
     "output_type": "display_data"
    }
   ],
   "source": [
    "lihat_device = df.groupby(\"Device_Type\")[\"Total_Pages_Viewed\"].mean().reset_index()\n",
    "lihat_device.columns = [\"Device_Type\", \"Rata-rata Viewed\"]\n",
    "\n",
    "# Mengatur gaya seaborn\n",
    "sns.set(style=\"whitegrid\")\n",
    "\n",
    "# Membuat bar chart\n",
    "plt.figure(figsize=(8, 6))\n",
    "bar = sns.barplot(x=lihat_device[\"Device_Type\"], y=lihat_device[\"Rata-rata Viewed\"]\n",
    "            , hue=lihat_device[\"Device_Type\"], palette=\"viridis\", legend=False)\n",
    "\n",
    "# Menambahkan judul dan label sumbu\n",
    "plt.title('Rata-rata Page Viewed berdasarkan Devices')\n",
    "plt.xlabel('Device_Type')\n",
    "plt.ylabel('Rata-rata Viewed')\n",
    "\n",
    "# Menambahkan label jumlah di atas tiap batang\n",
    "for index, row in lihat_device.iterrows():\n",
    "    bar.text(index, row[\"Rata-rata Viewed\"] + 0.1, row[\"Rata-rata Viewed\"], color='black', ha=\"center\")\n",
    "\n",
    "# Menampilkan plot\n",
    "plt.show()"
   ]
  },
  {
   "cell_type": "markdown",
   "metadata": {},
   "source": [
    "__Interpretasi :__\n",
    "Dari Visualisasi diatas didapatkan bahwa Device Mobile memiliki rata-rata total Page Viewed terbesar lalu diikuti dengan Tablet dan yang terakhir adalah dekstop."
   ]
  },
  {
   "cell_type": "markdown",
   "metadata": {},
   "source": [
    "### 4) Menghitung Nilai Tingkatan Hidup dan Visualisasinya"
   ]
  },
  {
   "cell_type": "markdown",
   "metadata": {},
   "source": [
    "Dalam Proses Menghitung Nilai Tingkatan Hidup terdapat beberapa proses tahapan, penjelasan tahapan dijelaskan sebagai berikut :\n",
    "\n",
    "1. Menghitung dan mencari kolom baru Nilai Tingkatan Hidup dengan cara mengalikan total pembelian dengan total halaman yang dilihat, kemudian dibagi dengan umur pelanggan. \n",
    "\n",
    "2. Mensegmentasi atau mengklasifikasikan Nilai Tingkatan Hidup menjadi 3 tingkatan, yaitu nilai 0-2.5 dalam tingkat rendah, nilai 2.5-5 dalam tingkat menengah dan 5 keatas dalam tingkat atas.\n",
    "\n",
    "3. Setelah itu dalam setiap tingkatan akan dihitung berapa jumlahnya dan akan di visualisasikan dalam bentuk barchard."
   ]
  },
  {
   "cell_type": "code",
   "execution_count": 11,
   "metadata": {},
   "outputs": [],
   "source": [
    "# Menghitung Nilai Tingkatan Hidup\n",
    "df[\"NTH\"] = (df[\"Total_Purchases\"] * df[\"Total_Pages_Viewed\"]) / df[\"Age\"]\n",
    "\n",
    "# Segmentasi Nilai Tingkatan Hidup\n",
    "df[\"Tingkat\"] = pd.cut(df[\"NTH\"], bins = [1, 2.5, 5, float('inf')],\n",
    "                       labels = [\"Rendah\", \"Menengah\", \"Atas\"])\n",
    "\n",
    "hitung_tingkat = df[\"Tingkat\"].value_counts().reset_index()\n",
    "hitung_tingkat.columns = [\"Kelas\", \"Jumlah\"]\n"
   ]
  },
  {
   "cell_type": "code",
   "execution_count": 12,
   "metadata": {},
   "outputs": [
    {
     "data": {
      "image/png": "[encoded data removed]",
      "text/plain": [
       "<Figure size 800x600 with 1 Axes>"
      ]
     },
     "metadata": {},
     "output_type": "display_data"
    }
   ],
   "source": [
    "# Mengatur gaya seaborn\n",
    "sns.set(style=\"whitegrid\")\n",
    "\n",
    "# Membuat bar chart\n",
    "plt.figure(figsize=(8, 6))\n",
    "bar = sns.barplot(x=hitung_tingkat[\"Kelas\"], y=hitung_tingkat[\"Jumlah\"]\n",
    "            , hue=hitung_tingkat[\"Kelas\"], palette=\"viridis\", legend=False)\n",
    "\n",
    "# Menambahkan judul dan label sumbu\n",
    "plt.title('Segmentasi kustomer berdasarkan Nilai Tingkatan Hidup')\n",
    "plt.xlabel('Nilai Tingkatan Hidup')\n",
    "plt.ylabel('Frekuensi')\n",
    "\n",
    "# Menambahkan label jumlah di atas tiap batang\n",
    "for index, row in hitung_tingkat.iterrows():\n",
    "    bar.text(index, row[\"Jumlah\"] + 0.1, row[\"Jumlah\"], color='black', ha=\"center\")\n",
    "\n",
    "# Menampilkan plot\n",
    "plt.show()"
   ]
  },
  {
   "cell_type": "markdown",
   "metadata": {},
   "source": [
    "__Interpretasi :__\n",
    "Dari Visualisasi diatas didapatkan bahwa Kelas/segmen rendah memiliki frekuensi terbesar lalu diikuti dengan Kelas/segmen menengah dan yang terakhir adalah Kelas/segmen atas."
   ]
  },
  {
   "cell_type": "markdown",
   "metadata": {},
   "source": [
    "### 5) Analisis Funnel"
   ]
  },
  {
   "cell_type": "code",
   "execution_count": 13,
   "metadata": {},
   "outputs": [
    {
     "data": {
      "application/vnd.plotly.v1+json": {
       "config": {
        "plotlyServerURL": "https://plot.ly"
       },
       "data": [
        {
         "hovertemplate": "Product_Browsing_Time=%{x}<br>Items_Added_to_Cart=%{y}<extra></extra>",
         "legendgroup": "",
         "marker": {
          "color": "#52c569"
         },
         "name": "",
         "orientation": "v",
         "showlegend": false,
         "type": "funnel",
         "x": [
          5,
          5,
          5,
          5,
          5,
          6,
          6,
          6,
          6,
          6,
          6,
          6,
          6,
          7,
          7,
          7,
          7,
          7,
          7,
          7,
          8,
          8,
          8,
          8,
          8,
          8,
          8,
          9,
          9,
          9,
          9,
          9,
          9,
          9,
          9,
          10,
          10,
          10,
          10,
          10,
          10,
          10,
          11,
          11,
          11,
          11,
          11,
          11,
          11,
          12,
          12,
          12,
          12,
          12,
          12,
          12,
          12,
          13,
          13,
          13,
          13,
          13,
          13,
          13,
          13,
          14,
          14,
          14,
          14,
          14,
          14,
          14,
          14,
          14,
          15,
          15,
          15,
          15,
          15,
          15,
          16,
          16,
          16,
          16,
          16,
          17,
          17,
          17,
          17,
          17,
          18,
          18,
          18,
          18,
          18,
          18,
          18,
          19,
          19,
          19,
          19,
          19,
          19,
          19,
          20,
          20,
          20,
          20,
          20,
          20,
          21,
          21,
          21,
          21,
          21,
          22,
          22,
          22,
          22,
          22,
          22,
          22,
          23,
          23,
          23,
          24,
          24,
          24,
          24,
          24,
          24,
          24,
          25,
          25,
          25,
          25,
          25,
          25,
          25,
          26,
          26,
          27,
          27,
          27,
          27,
          27,
          27,
          27,
          28,
          28,
          28,
          28,
          28,
          28,
          28,
          29,
          29,
          29,
          29,
          29,
          29,
          29,
          29,
          29,
          30,
          30,
          30,
          30,
          30,
          31,
          31,
          31,
          31,
          31,
          31,
          31,
          31,
          32,
          32,
          32,
          32,
          32,
          33,
          33,
          33,
          33,
          33,
          33,
          34,
          34,
          34,
          34,
          34,
          34,
          34,
          34,
          35,
          35,
          35,
          35,
          36,
          36,
          36,
          36,
          36,
          37,
          37,
          37,
          37,
          37,
          37,
          37,
          37,
          37,
          38,
          38,
          38,
          38,
          38,
          38,
          39,
          39,
          39,
          39,
          39,
          39,
          39,
          39,
          40,
          40,
          40,
          40,
          41,
          41,
          41,
          41,
          41,
          42,
          42,
          42,
          42,
          42,
          42,
          42,
          42,
          43,
          43,
          43,
          43,
          43,
          43,
          44,
          44,
          44,
          44,
          44,
          45,
          45,
          45,
          45,
          45,
          45,
          46,
          46,
          46,
          46,
          46,
          46,
          46,
          46,
          47,
          47,
          47,
          47,
          47,
          47,
          47,
          48,
          48,
          48,
          49,
          49,
          49,
          49,
          49,
          50,
          50,
          50,
          50,
          50,
          51,
          51,
          51,
          51,
          51,
          52,
          52,
          52,
          52,
          52,
          52,
          52,
          53,
          53,
          53,
          53,
          53,
          54,
          54,
          54,
          54,
          54,
          54,
          55,
          55,
          55,
          56,
          56,
          56,
          56,
          56,
          57,
          57,
          57,
          57,
          57,
          57,
          57,
          58,
          58,
          58,
          58,
          58,
          58,
          59,
          59,
          59,
          60,
          60,
          60,
          60,
          60
         ],
         "xaxis": "x",
         "y": [
          2,
          3,
          6,
          7,
          8,
          0,
          1,
          2,
          4,
          5,
          7,
          8,
          10,
          1,
          2,
          5,
          6,
          7,
          8,
          10,
          1,
          3,
          4,
          6,
          7,
          9,
          10,
          1,
          4,
          5,
          6,
          7,
          8,
          9,
          10,
          0,
          1,
          2,
          4,
          5,
          8,
          10,
          1,
          2,
          3,
          5,
          6,
          7,
          10,
          0,
          1,
          2,
          3,
          6,
          8,
          9,
          10,
          0,
          1,
          2,
          3,
          4,
          7,
          8,
          10,
          0,
          1,
          2,
          3,
          4,
          6,
          7,
          8,
          10,
          0,
          1,
          2,
          7,
          8,
          9,
          1,
          3,
          4,
          5,
          10,
          3,
          5,
          7,
          9,
          10,
          0,
          2,
          3,
          5,
          7,
          8,
          9,
          0,
          2,
          4,
          5,
          6,
          9,
          10,
          0,
          1,
          2,
          5,
          8,
          10,
          3,
          4,
          5,
          8,
          9,
          0,
          3,
          4,
          5,
          7,
          8,
          10,
          4,
          5,
          10,
          1,
          5,
          6,
          7,
          8,
          9,
          10,
          1,
          2,
          3,
          4,
          7,
          8,
          10,
          2,
          8,
          0,
          2,
          4,
          5,
          6,
          7,
          10,
          2,
          4,
          5,
          7,
          8,
          9,
          10,
          0,
          1,
          3,
          4,
          5,
          6,
          7,
          8,
          10,
          2,
          4,
          5,
          9,
          10,
          0,
          1,
          2,
          3,
          7,
          8,
          9,
          10,
          0,
          1,
          2,
          4,
          8,
          0,
          1,
          3,
          4,
          9,
          10,
          1,
          2,
          3,
          4,
          5,
          6,
          7,
          8,
          1,
          8,
          9,
          10,
          0,
          3,
          7,
          8,
          10,
          0,
          1,
          2,
          3,
          5,
          6,
          8,
          9,
          10,
          3,
          4,
          6,
          7,
          9,
          10,
          0,
          1,
          2,
          4,
          7,
          8,
          9,
          10,
          0,
          3,
          5,
          9,
          1,
          3,
          6,
          8,
          10,
          0,
          1,
          4,
          5,
          6,
          7,
          8,
          10,
          1,
          3,
          4,
          6,
          8,
          10,
          4,
          7,
          8,
          9,
          10,
          1,
          3,
          6,
          8,
          9,
          10,
          0,
          2,
          3,
          4,
          5,
          6,
          8,
          9,
          2,
          3,
          4,
          6,
          7,
          8,
          10,
          4,
          5,
          10,
          1,
          6,
          7,
          9,
          10,
          3,
          4,
          6,
          8,
          9,
          0,
          1,
          2,
          4,
          5,
          0,
          2,
          5,
          6,
          7,
          9,
          10,
          0,
          6,
          8,
          9,
          10,
          0,
          1,
          2,
          4,
          5,
          8,
          1,
          3,
          7,
          2,
          3,
          5,
          7,
          8,
          1,
          2,
          3,
          6,
          7,
          9,
          10,
          0,
          1,
          3,
          7,
          8,
          10,
          4,
          8,
          10,
          1,
          6,
          7,
          8,
          9
         ],
         "yaxis": "y"
        }
       ],
       "layout": {
        "legend": {
         "tracegroupgap": 0
        },
        "template": {
         "data": {
          "bar": [
           {
            "error_x": {
             "color": "#2a3f5f"
            },
            "error_y": {
             "color": "#2a3f5f"
            },
            "marker": {
             "line": {
              "color": "#E5ECF6",
              "width": 0.5
             },
             "pattern": {
              "fillmode": "overlay",
              "size": 10,
              "solidity": 0.2
             }
            },
            "type": "bar"
           }
          ],
          "barpolar": [
           {
            "marker": {
             "line": {
              "color": "#E5ECF6",
              "width": 0.5
             },
             "pattern": {
              "fillmode": "overlay",
              "size": 10,
              "solidity": 0.2
             }
            },
            "type": "barpolar"
           }
          ],
          "carpet": [
           {
            "aaxis": {
             "endlinecolor": "#2a3f5f",
             "gridcolor": "white",
             "linecolor": "white",
             "minorgridcolor": "white",
             "startlinecolor": "#2a3f5f"
            },
            "baxis": {
             "endlinecolor": "#2a3f5f",
             "gridcolor": "white",
             "linecolor": "white",
             "minorgridcolor": "white",
             "startlinecolor": "#2a3f5f"
            },
            "type": "carpet"
           }
          ],
          "choropleth": [
           {
            "colorbar": {
             "outlinewidth": 0,
             "ticks": ""
            },
            "type": "choropleth"
           }
          ],
          "contour": [
           {
            "colorbar": {
             "outlinewidth": 0,
             "ticks": ""
            },
            "colorscale": [
             [
              0,
              "#0d0887"
             ],
             [
              0.1111111111111111,
              "#46039f"
             ],
             [
              0.2222222222222222,
              "#7201a8"
             ],
             [
              0.3333333333333333,
              "#9c179e"
             ],
             [
              0.4444444444444444,
              "#bd3786"
             ],
             [
              0.5555555555555556,
              "#d8576b"
             ],
             [
              0.6666666666666666,
              "#ed7953"
             ],
             [
              0.7777777777777778,
              "#fb9f3a"
             ],
             [
              0.8888888888888888,
              "#fdca26"
             ],
             [
              1,
              "#f0f921"
             ]
            ],
            "type": "contour"
           }
          ],
          "contourcarpet": [
           {
            "colorbar": {
             "outlinewidth": 0,
             "ticks": ""
            },
            "type": "contourcarpet"
           }
          ],
          "heatmap": [
           {
            "colorbar": {
             "outlinewidth": 0,
             "ticks": ""
            },
            "colorscale": [
             [
              0,
              "#0d0887"
             ],
             [
              0.1111111111111111,
              "#46039f"
             ],
             [
              0.2222222222222222,
              "#7201a8"
             ],
             [
              0.3333333333333333,
              "#9c179e"
             ],
             [
              0.4444444444444444,
              "#bd3786"
             ],
             [
              0.5555555555555556,
              "#d8576b"
             ],
             [
              0.6666666666666666,
              "#ed7953"
             ],
             [
              0.7777777777777778,
              "#fb9f3a"
             ],
             [
              0.8888888888888888,
              "#fdca26"
             ],
             [
              1,
              "#f0f921"
             ]
            ],
            "type": "heatmap"
           }
          ],
          "heatmapgl": [
           {
            "colorbar": {
             "outlinewidth": 0,
             "ticks": ""
            },
            "colorscale": [
             [
              0,
              "#0d0887"
             ],
             [
              0.1111111111111111,
              "#46039f"
             ],
             [
              0.2222222222222222,
              "#7201a8"
             ],
             [
              0.3333333333333333,
              "#9c179e"
             ],
             [
              0.4444444444444444,
              "#bd3786"
             ],
             [
              0.5555555555555556,
              "#d8576b"
             ],
             [
              0.6666666666666666,
              "#ed7953"
             ],
             [
              0.7777777777777778,
              "#fb9f3a"
             ],
             [
              0.8888888888888888,
              "#fdca26"
             ],
             [
              1,
              "#f0f921"
             ]
            ],
            "type": "heatmapgl"
           }
          ],
          "histogram": [
           {
            "marker": {
             "pattern": {
              "fillmode": "overlay",
              "size": 10,
              "solidity": 0.2
             }
            },
            "type": "histogram"
           }
          ],
          "histogram2d": [
           {
            "colorbar": {
             "outlinewidth": 0,
             "ticks": ""
            },
            "colorscale": [
             [
              0,
              "#0d0887"
             ],
             [
              0.1111111111111111,
              "#46039f"
             ],
             [
              0.2222222222222222,
              "#7201a8"
             ],
             [
              0.3333333333333333,
              "#9c179e"
             ],
             [
              0.4444444444444444,
              "#bd3786"
             ],
             [
              0.5555555555555556,
              "#d8576b"
             ],
             [
              0.6666666666666666,
              "#ed7953"
             ],
             [
              0.7777777777777778,
              "#fb9f3a"
             ],
             [
              0.8888888888888888,
              "#fdca26"
             ],
             [
              1,
              "#f0f921"
             ]
            ],
            "type": "histogram2d"
           }
          ],
          "histogram2dcontour": [
           {
            "colorbar": {
             "outlinewidth": 0,
             "ticks": ""
            },
            "colorscale": [
             [
              0,
              "#0d0887"
             ],
             [
              0.1111111111111111,
              "#46039f"
             ],
             [
              0.2222222222222222,
              "#7201a8"
             ],
             [
              0.3333333333333333,
              "#9c179e"
             ],
             [
              0.4444444444444444,
              "#bd3786"
             ],
             [
              0.5555555555555556,
              "#d8576b"
             ],
             [
              0.6666666666666666,
              "#ed7953"
             ],
             [
              0.7777777777777778,
              "#fb9f3a"
             ],
             [
              0.8888888888888888,
              "#fdca26"
             ],
             [
              1,
              "#f0f921"
             ]
            ],
            "type": "histogram2dcontour"
           }
          ],
          "mesh3d": [
           {
            "colorbar": {
             "outlinewidth": 0,
             "ticks": ""
            },
            "type": "mesh3d"
           }
          ],
          "parcoords": [
           {
            "line": {
             "colorbar": {
              "outlinewidth": 0,
              "ticks": ""
             }
            },
            "type": "parcoords"
           }
          ],
          "pie": [
           {
            "automargin": true,
            "type": "pie"
           }
          ],
          "scatter": [
           {
            "fillpattern": {
             "fillmode": "overlay",
             "size": 10,
             "solidity": 0.2
            },
            "type": "scatter"
           }
          ],
          "scatter3d": [
           {
            "line": {
             "colorbar": {
              "outlinewidth": 0,
              "ticks": ""
             }
            },
            "marker": {
             "colorbar": {
              "outlinewidth": 0,
              "ticks": ""
             }
            },
            "type": "scatter3d"
           }
          ],
          "scattercarpet": [
           {
            "marker": {
             "colorbar": {
              "outlinewidth": 0,
              "ticks": ""
             }
            },
            "type": "scattercarpet"
           }
          ],
          "scattergeo": [
           {
            "marker": {
             "colorbar": {
              "outlinewidth": 0,
              "ticks": ""
             }
            },
            "type": "scattergeo"
           }
          ],
          "scattergl": [
           {
            "marker": {
             "colorbar": {
              "outlinewidth": 0,
              "ticks": ""
             }
            },
            "type": "scattergl"
           }
          ],
          "scattermapbox": [
           {
            "marker": {
             "colorbar": {
              "outlinewidth": 0,
              "ticks": ""
             }
            },
            "type": "scattermapbox"
           }
          ],
          "scatterpolar": [
           {
            "marker": {
             "colorbar": {
              "outlinewidth": 0,
              "ticks": ""
             }
            },
            "type": "scatterpolar"
           }
          ],
          "scatterpolargl": [
           {
            "marker": {
             "colorbar": {
              "outlinewidth": 0,
              "ticks": ""
             }
            },
            "type": "scatterpolargl"
           }
          ],
          "scatterternary": [
           {
            "marker": {
             "colorbar": {
              "outlinewidth": 0,
              "ticks": ""
             }
            },
            "type": "scatterternary"
           }
          ],
          "surface": [
           {
            "colorbar": {
             "outlinewidth": 0,
             "ticks": ""
            },
            "colorscale": [
             [
              0,
              "#0d0887"
             ],
             [
              0.1111111111111111,
              "#46039f"
             ],
             [
              0.2222222222222222,
              "#7201a8"
             ],
             [
              0.3333333333333333,
              "#9c179e"
             ],
             [
              0.4444444444444444,
              "#bd3786"
             ],
             [
              0.5555555555555556,
              "#d8576b"
             ],
             [
              0.6666666666666666,
              "#ed7953"
             ],
             [
              0.7777777777777778,
              "#fb9f3a"
             ],
             [
              0.8888888888888888,
              "#fdca26"
             ],
             [
              1,
              "#f0f921"
             ]
            ],
            "type": "surface"
           }
          ],
          "table": [
           {
            "cells": {
             "fill": {
              "color": "#EBF0F8"
             },
             "line": {
              "color": "white"
             }
            },
            "header": {
             "fill": {
              "color": "#C8D4E3"
             },
             "line": {
              "color": "white"
             }
            },
            "type": "table"
           }
          ]
         },
         "layout": {
          "annotationdefaults": {
           "arrowcolor": "#2a3f5f",
           "arrowhead": 0,
           "arrowwidth": 1
          },
          "autotypenumbers": "strict",
          "coloraxis": {
           "colorbar": {
            "outlinewidth": 0,
            "ticks": ""
           }
          },
          "colorscale": {
           "diverging": [
            [
             0,
             "#8e0152"
            ],
            [
             0.1,
             "#c51b7d"
            ],
            [
             0.2,
             "#de77ae"
            ],
            [
             0.3,
             "#f1b6da"
            ],
            [
             0.4,
             "#fde0ef"
            ],
            [
             0.5,
             "#f7f7f7"
            ],
            [
             0.6,
             "#e6f5d0"
            ],
            [
             0.7,
             "#b8e186"
            ],
            [
             0.8,
             "#7fbc41"
            ],
            [
             0.9,
             "#4d9221"
            ],
            [
             1,
             "#276419"
            ]
           ],
           "sequential": [
            [
             0,
             "#0d0887"
            ],
            [
             0.1111111111111111,
             "#46039f"
            ],
            [
             0.2222222222222222,
             "#7201a8"
            ],
            [
             0.3333333333333333,
             "#9c179e"
            ],
            [
             0.4444444444444444,
             "#bd3786"
            ],
            [
             0.5555555555555556,
             "#d8576b"
            ],
            [
             0.6666666666666666,
             "#ed7953"
            ],
            [
             0.7777777777777778,
             "#fb9f3a"
            ],
            [
             0.8888888888888888,
             "#fdca26"
            ],
            [
             1,
             "#f0f921"
            ]
           ],
           "sequentialminus": [
            [
             0,
             "#0d0887"
            ],
            [
             0.1111111111111111,
             "#46039f"
            ],
            [
             0.2222222222222222,
             "#7201a8"
            ],
            [
             0.3333333333333333,
             "#9c179e"
            ],
            [
             0.4444444444444444,
             "#bd3786"
            ],
            [
             0.5555555555555556,
             "#d8576b"
            ],
            [
             0.6666666666666666,
             "#ed7953"
            ],
            [
             0.7777777777777778,
             "#fb9f3a"
            ],
            [
             0.8888888888888888,
             "#fdca26"
            ],
            [
             1,
             "#f0f921"
            ]
           ]
          },
          "colorway": [
           "#636efa",
           "#EF553B",
           "#00cc96",
           "#ab63fa",
           "#FFA15A",
           "#19d3f3",
           "#FF6692",
           "#B6E880",
           "#FF97FF",
           "#FECB52"
          ],
          "font": {
           "color": "#2a3f5f"
          },
          "geo": {
           "bgcolor": "white",
           "lakecolor": "white",
           "landcolor": "#E5ECF6",
           "showlakes": true,
           "showland": true,
           "subunitcolor": "white"
          },
          "hoverlabel": {
           "align": "left"
          },
          "hovermode": "closest",
          "mapbox": {
           "style": "light"
          },
          "paper_bgcolor": "white",
          "plot_bgcolor": "#E5ECF6",
          "polar": {
           "angularaxis": {
            "gridcolor": "white",
            "linecolor": "white",
            "ticks": ""
           },
           "bgcolor": "#E5ECF6",
           "radialaxis": {
            "gridcolor": "white",
            "linecolor": "white",
            "ticks": ""
           }
          },
          "scene": {
           "xaxis": {
            "backgroundcolor": "#E5ECF6",
            "gridcolor": "white",
            "gridwidth": 2,
            "linecolor": "white",
            "showbackground": true,
            "ticks": "",
            "zerolinecolor": "white"
           },
           "yaxis": {
            "backgroundcolor": "#E5ECF6",
            "gridcolor": "white",
            "gridwidth": 2,
            "linecolor": "white",
            "showbackground": true,
            "ticks": "",
            "zerolinecolor": "white"
           },
           "zaxis": {
            "backgroundcolor": "#E5ECF6",
            "gridcolor": "white",
            "gridwidth": 2,
            "linecolor": "white",
            "showbackground": true,
            "ticks": "",
            "zerolinecolor": "white"
           }
          },
          "shapedefaults": {
           "line": {
            "color": "#2a3f5f"
           }
          },
          "ternary": {
           "aaxis": {
            "gridcolor": "white",
            "linecolor": "white",
            "ticks": ""
           },
           "baxis": {
            "gridcolor": "white",
            "linecolor": "white",
            "ticks": ""
           },
           "bgcolor": "#E5ECF6",
           "caxis": {
            "gridcolor": "white",
            "linecolor": "white",
            "ticks": ""
           }
          },
          "title": {
           "x": 0.05
          },
          "xaxis": {
           "automargin": true,
           "gridcolor": "white",
           "linecolor": "white",
           "ticks": "",
           "title": {
            "standoff": 15
           },
           "zerolinecolor": "white",
           "zerolinewidth": 2
          },
          "yaxis": {
           "automargin": true,
           "gridcolor": "white",
           "linecolor": "white",
           "ticks": "",
           "title": {
            "standoff": 15
           },
           "zerolinecolor": "white",
           "zerolinewidth": 2
          }
         }
        },
        "title": {
         "text": "Conversi Funnel"
        },
        "xaxis": {
         "anchor": "y",
         "domain": [
          0,
          1
         ],
         "title": {
          "text": "Product_Browsing_Time"
         }
        },
        "yaxis": {
         "anchor": "x",
         "domain": [
          0,
          1
         ],
         "title": {
          "text": "Items_Added_to_Cart"
         }
        }
       }
      }
     },
     "metadata": {},
     "output_type": "display_data"
    }
   ],
   "source": [
    "# Analisis Funnel\n",
    "data_funnel = df[[\"Product_Browsing_Time\", \"Items_Added_to_Cart\", \"Total_Purchases\"]]\n",
    "data_funnel = data_funnel.groupby([\"Product_Browsing_Time\", \"Items_Added_to_Cart\"]).sum().reset_index()\n",
    "\n",
    "# Membuat Funnel Chart\n",
    "fig = px.funnel(data_funnel, x='Product_Browsing_Time', y='Items_Added_to_Cart', title='Conversi Funnel',\n",
    "                color_discrete_sequence=[\"#52c569\"])\n",
    "fig.show()\n"
   ]
  },
  {
   "cell_type": "markdown",
   "metadata": {},
   "source": [
    "__Interpretasi :__\n",
    "Dalam Grafik tersebut, sumbu X menunjukkan waktu yang dihabiskan pelanggan untuk menelusuri produk di platform e-commerce. Sumbu y mewakili jumlah item yang ditambahkan ke keranjang belanja oleh pelanggan selama sesi penjelajahan mereka."
   ]
  },
  {
   "cell_type": "markdown",
   "metadata": {},
   "source": [
    "### 6) Menghitung Churn Rate"
   ]
  },
  {
   "cell_type": "markdown",
   "metadata": {},
   "source": [
    "__Churn Rate__ sendiri dapat memberikan wawasan tentang seberapa baik dan efektif perusahaan tersebut dalam mempertahankan customer dan menjaga loyalitas dari pelanggan tersebut. Semakin besar nilai dari Churn Rate maka tantangan dari perusahaan tersebut dalam mempertahankan pelanggan dan menjaga loyalitas dari customer semakin besar/sulit."
   ]
  },
  {
   "cell_type": "code",
   "execution_count": 18,
   "metadata": {},
   "outputs": [
    {
     "data": {
      "text/plain": [
       "0.198"
      ]
     },
     "execution_count": 18,
     "metadata": {},
     "output_type": "execute_result"
    }
   ],
   "source": [
    "# Menghitung Tingkat Churn\n",
    "df[\"Churn\"] = df[\"Total_Purchases\"] == 0\n",
    "\n",
    "tingkat_churn = df[\"Churn\"].mean()\n",
    "tingkat_churn"
   ]
  },
  {
   "cell_type": "markdown",
   "metadata": {},
   "source": [
    "__Interpretasi :__ Dari hasil perhitungan tersebut didapatkan bahwa nilai dari tingkat churn adalah sebesar 0.198, ini berarti sekitar 19.8% dari total customer telah berhenti menggunakan layanan atau produk dalam periode waktu tersebut."
   ]
  },
  {
   "cell_type": "markdown",
   "metadata": {},
   "source": [
    "## Kesimpulan"
   ]
  },
  {
   "cell_type": "markdown",
   "metadata": {},
   "source": [
    "Berdasarkan informasi yang diberikan, kesimpulan proyek analisis data dapat dirangkum sebagai berikut:\n",
    "\n",
    "1. Tidak ada hubungan atau relasi yang signifikan antara total halaman yang dilihat dan waktu penjelajahan produk. Meskipun kedua variabel tersebut penting dalam memahami perilaku pelanggan, tidak ada korelasi yang jelas antara keduanya, yang menunjukkan bahwa jumlah halaman yang dilihat tidak selalu berdampak pada waktu yang dihabiskan untuk menjelajahi produk.\n",
    "\n",
    "2. Wanita memiliki rata-rata total halaman yang dilihat lebih tinggi daripada pria. Ini menunjukkan bahwa wanita mungkin lebih aktif dalam menjelajahi atau menggunakan produk atau layanan perusahaan, dan dapat menjadi wawasan penting dalam pengembangan strategi pemasaran atau segmentasi pelanggan.\n",
    "\n",
    "3. Device mobile merupakan perangkat yang paling banyak digunakan oleh pelanggan, dengan rata-rata total halaman yang dilihat terbesar. Informasi ini dapat membantu organisasi dalam mengoptimalkan pengalaman pengguna untuk perangkat mobile dan meningkatkan fokus pada pengembangan aplikasi atau situs web yang responsif terhadap perangkat mobile.\n",
    "\n",
    "4. Kelas atau segmen pelanggan berdasarkan nilai tingkatan hidup menunjukkan bahwa kelas atau segmen rendah memiliki jumlah pelanggan terbesar dibandingkan dengan yang lain. Hal ini bisa menjadi informasi berharga untuk menyusun strategi pemasaran atau penargetan yang lebih efektif terhadap segmen tersebut.\n",
    "\n",
    "5. Tingkat churn sebesar 0.198 menunjukkan bahwa sekitar 19.8% dari total pelanggan telah berhenti menggunakan layanan atau produk dalam periode waktu tertentu. Hal ini mengindikasikan adanya tantangan dalam mempertahankan basis pelanggan dan menekankan pentingnya untuk mengembangkan strategi retensi pelanggan yang efektif.\n",
    "\n",
    "Kesimpulan ini memberikan gambaran yang komprehensif tentang perilaku pelanggan dan faktor-faktor yang memengaruhinya, serta dapat menjadi dasar untuk pengembangan strategi lebih lanjut dalam meningkatkan pengalaman pelanggan dan pertumbuhan bisnis."
   ]
  }
 ],
 "metadata": {
  "kernelspec": {
   "display_name": "Python 3",
   "language": "python",
   "name": "python3"
  },
  "language_info": {
   "codemirror_mode": {
    "name": "ipython",
    "version": 3
   },
   "file_extension": ".py",
   "mimetype": "text/x-python",
   "name": "python",
   "nbconvert_exporter": "python",
   "pygments_lexer": "ipython3",
   "version": "3.12.0"
  }
 },
 "nbformat": 4,
 "nbformat_minor": 2
}
